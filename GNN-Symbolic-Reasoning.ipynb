{
  "cells": [
    {
      "cell_type": "code",
      "execution_count": null,
      "metadata": {
        "colab": {
          "base_uri": "https://localhost:8080/"
        },
        "collapsed": true,
        "id": "6qxKcY1xk00P",
        "outputId": "10c10887-1b6b-4b8c-961b-163474ff4fe0"
      },
      "outputs": [
        {
          "output_type": "stream",
          "name": "stdout",
          "text": [
            "Collecting torch-geometric\n",
            "  Downloading torch_geometric-2.6.1-py3-none-any.whl.metadata (63 kB)\n",
            "\u001b[?25l     \u001b[90m━━━━━━━━━━━━━━━━━━━━━━━━━━━━━━━━━━━━━━━━\u001b[0m \u001b[32m0.0/63.1 kB\u001b[0m \u001b[31m?\u001b[0m eta \u001b[36m-:--:--\u001b[0m\r\u001b[2K     \u001b[90m━━━━━━━━━━━━━━━━━━━━━━━━━━━━━━━━━━━━━━━━\u001b[0m \u001b[32m63.1/63.1 kB\u001b[0m \u001b[31m3.2 MB/s\u001b[0m eta \u001b[36m0:00:00\u001b[0m\n",
            "\u001b[?25hRequirement already satisfied: aiohttp in /usr/local/lib/python3.10/dist-packages (from torch-geometric) (3.11.10)\n",
            "Requirement already satisfied: fsspec in /usr/local/lib/python3.10/dist-packages (from torch-geometric) (2024.10.0)\n",
            "Requirement already satisfied: jinja2 in /usr/local/lib/python3.10/dist-packages (from torch-geometric) (3.1.4)\n",
            "Requirement already satisfied: numpy in /usr/local/lib/python3.10/dist-packages (from torch-geometric) (1.26.4)\n",
            "Requirement already satisfied: psutil>=5.8.0 in /usr/local/lib/python3.10/dist-packages (from torch-geometric) (5.9.5)\n",
            "Requirement already satisfied: pyparsing in /usr/local/lib/python3.10/dist-packages (from torch-geometric) (3.2.0)\n",
            "Requirement already satisfied: requests in /usr/local/lib/python3.10/dist-packages (from torch-geometric) (2.32.3)\n",
            "Requirement already satisfied: tqdm in /usr/local/lib/python3.10/dist-packages (from torch-geometric) (4.67.1)\n",
            "Requirement already satisfied: aiohappyeyeballs>=2.3.0 in /usr/local/lib/python3.10/dist-packages (from aiohttp->torch-geometric) (2.4.4)\n",
            "Requirement already satisfied: aiosignal>=1.1.2 in /usr/local/lib/python3.10/dist-packages (from aiohttp->torch-geometric) (1.3.2)\n",
            "Requirement already satisfied: async-timeout<6.0,>=4.0 in /usr/local/lib/python3.10/dist-packages (from aiohttp->torch-geometric) (4.0.3)\n",
            "Requirement already satisfied: attrs>=17.3.0 in /usr/local/lib/python3.10/dist-packages (from aiohttp->torch-geometric) (24.3.0)\n",
            "Requirement already satisfied: frozenlist>=1.1.1 in /usr/local/lib/python3.10/dist-packages (from aiohttp->torch-geometric) (1.5.0)\n",
            "Requirement already satisfied: multidict<7.0,>=4.5 in /usr/local/lib/python3.10/dist-packages (from aiohttp->torch-geometric) (6.1.0)\n",
            "Requirement already satisfied: propcache>=0.2.0 in /usr/local/lib/python3.10/dist-packages (from aiohttp->torch-geometric) (0.2.1)\n",
            "Requirement already satisfied: yarl<2.0,>=1.17.0 in /usr/local/lib/python3.10/dist-packages (from aiohttp->torch-geometric) (1.18.3)\n",
            "Requirement already satisfied: MarkupSafe>=2.0 in /usr/local/lib/python3.10/dist-packages (from jinja2->torch-geometric) (3.0.2)\n",
            "Requirement already satisfied: charset-normalizer<4,>=2 in /usr/local/lib/python3.10/dist-packages (from requests->torch-geometric) (3.4.0)\n",
            "Requirement already satisfied: idna<4,>=2.5 in /usr/local/lib/python3.10/dist-packages (from requests->torch-geometric) (3.10)\n",
            "Requirement already satisfied: urllib3<3,>=1.21.1 in /usr/local/lib/python3.10/dist-packages (from requests->torch-geometric) (2.2.3)\n",
            "Requirement already satisfied: certifi>=2017.4.17 in /usr/local/lib/python3.10/dist-packages (from requests->torch-geometric) (2024.12.14)\n",
            "Requirement already satisfied: typing-extensions>=4.1.0 in /usr/local/lib/python3.10/dist-packages (from multidict<7.0,>=4.5->aiohttp->torch-geometric) (4.12.2)\n",
            "Downloading torch_geometric-2.6.1-py3-none-any.whl (1.1 MB)\n",
            "\u001b[2K   \u001b[90m━━━━━━━━━━━━━━━━━━━━━━━━━━━━━━━━━━━━━━━━\u001b[0m \u001b[32m1.1/1.1 MB\u001b[0m \u001b[31m44.0 MB/s\u001b[0m eta \u001b[36m0:00:00\u001b[0m\n",
            "\u001b[?25hInstalling collected packages: torch-geometric\n",
            "Successfully installed torch-geometric-2.6.1\n"
          ]
        }
      ],
      "source": [
        "import random\n",
        "import sympy as sp\n",
        "import networkx as nx\n",
        "import matplotlib.pyplot as plt\n",
        "import torch\n",
        "from torch import nn\n",
        "!pip install torch-geometric\n",
        "from torch_geometric.data import Data, DataLoader\n",
        "from torch_geometric.nn import GCNConv, global_mean_pool\n",
        "from torch.optim.lr_scheduler import StepLR"
      ]
    },
    {
      "cell_type": "markdown",
      "source": [
        "### 1. DATASET GENERATION"
      ],
      "metadata": {
        "id": "N8nF2_I13dd6"
      }
    },
    {
      "cell_type": "code",
      "source": [
        "def generate_equation_problem():\n",
        "    x = sp.symbols('x')\n",
        "    coeff = random.randint(1, 3)  # Reduced range for coefficients\n",
        "    constant = random.randint(1, 5)  # Reduced range for constants\n",
        "    rhs = random.randint(1, 20)  # Reduced range for right-hand side\n",
        "    eq = sp.Eq(sp.expand(coeff * (x + constant)**2), rhs)\n",
        "    solutions = sp.solve(eq, x)\n",
        "    return eq, [float(s) for s in solutions if sp.im(s) == 0]  # Real solutions only\n",
        "\n",
        "def generate_dataset(problem_function, size=2000):  # Doubled dataset size\n",
        "    data = []\n",
        "    for _ in range(size):\n",
        "        problem, solution = problem_function()\n",
        "        data.append(problem_to_pyg_data(problem, solution))\n",
        "    return data"
      ],
      "metadata": {
        "id": "ZOQ8I0PR3okR"
      },
      "execution_count": null,
      "outputs": []
    },
    {
      "cell_type": "markdown",
      "source": [
        "### 2. GRAPH REPRESENTATION"
      ],
      "metadata": {
        "id": "0W34Ltns3teI"
      }
    },
    {
      "cell_type": "code",
      "source": [
        "def problem_to_graph(problem):\n",
        "    graph = nx.DiGraph()\n",
        "    nodes = {}\n",
        "\n",
        "    def add_node(expr, parent=None):\n",
        "        if expr in nodes:\n",
        "            return nodes[expr]\n",
        "        node_id = len(nodes)\n",
        "        nodes[expr] = node_id\n",
        "        graph.add_node(node_id, label=str(expr))\n",
        "        if parent is not None:\n",
        "            graph.add_edge(parent, node_id)\n",
        "        if isinstance(expr, sp.Basic):\n",
        "            for arg in expr.args:\n",
        "                add_node(arg, node_id)\n",
        "        return node_id\n",
        "\n",
        "    add_node(problem)\n",
        "    return graph\n",
        "\n",
        "def problem_to_pyg_data(problem, solution):\n",
        "    graph = problem_to_graph(problem)\n",
        "    edge_index = torch.tensor(list(graph.edges())).t().contiguous() if len(graph.edges()) > 0 else torch.zeros((2, 0), dtype=torch.long)\n",
        "\n",
        "    # Extract features: Coefficients, constants, and operators as node features\n",
        "    node_features = []\n",
        "    for node, data in graph.nodes(data=True):\n",
        "        label = data[\"label\"]\n",
        "        if label.isdigit():\n",
        "            node_features.append([float(label), 0, 0, 0])  # Coefficient, constant, power, operator\n",
        "        elif \"x\" in label:\n",
        "            node_features.append([0, 1, 1, 0])  # Variable features\n",
        "        elif label in [\"+\", \"-\", \"*\", \"/\"]:\n",
        "            node_features.append([0, 0, 0, 1])  # Operator features\n",
        "        else:\n",
        "            node_features.append([0, 0, 0, 0])  # Unknowns\n",
        "\n",
        "    x = torch.tensor(node_features, dtype=torch.float)\n",
        "    y = torch.tensor([solution[0]] if solution else [0.0], dtype=torch.float)  # First real solution\n",
        "\n",
        "    return Data(x=x, edge_index=edge_index, y=y)\n",
        "\n",
        "# Generate dataset\n",
        "equation_data = generate_dataset(generate_equation_problem, 5000)\n",
        "data_loader = DataLoader(equation_data, batch_size=64, shuffle=True)  # Increased batch size"
      ],
      "metadata": {
        "id": "xGeMuOjm3wXk"
      },
      "execution_count": null,
      "outputs": []
    },
    {
      "cell_type": "markdown",
      "source": [
        "### 3. MODEL DEFINITION"
      ],
      "metadata": {
        "id": "-FnOPTW930ho"
      }
    },
    {
      "cell_type": "code",
      "source": [
        "class GNNModel(nn.Module):\n",
        "    def __init__(self, input_dim, hidden_dim, output_dim):\n",
        "        super(GNNModel, self).__init__()\n",
        "        self.conv1 = GCNConv(input_dim, hidden_dim)\n",
        "        self.conv2 = GCNConv(hidden_dim, hidden_dim)\n",
        "        self.conv3 = GCNConv(hidden_dim, output_dim)\n",
        "        self.fc1 = nn.Linear(output_dim, 64)\n",
        "        self.fc2 = nn.Linear(64, 1)\n",
        "        self.dropout = nn.Dropout(0.5)\n",
        "\n",
        "    def forward(self, x, edge_index, batch):\n",
        "        x = self.conv1(x, edge_index)\n",
        "        x = torch.relu(x)\n",
        "        x = self.conv2(x, edge_index)\n",
        "        x = torch.relu(x)\n",
        "        x = self.conv3(x, edge_index)\n",
        "        x = global_mean_pool(x, batch)\n",
        "        x = self.dropout(torch.relu(self.fc1(x)))\n",
        "        return self.fc2(x)"
      ],
      "metadata": {
        "id": "otnHQjQo33dd"
      },
      "execution_count": null,
      "outputs": []
    },
    {
      "cell_type": "markdown",
      "source": [
        "### 4. TRAINING AND EVALUATION"
      ],
      "metadata": {
        "id": "OC578DK236Hd"
      }
    },
    {
      "cell_type": "code",
      "source": [
        "def train_model(model, data_loader, optimizer, criterion):\n",
        "    model.train()\n",
        "    total_loss = 0\n",
        "    for data in data_loader:\n",
        "        optimizer.zero_grad()\n",
        "        out = model(data.x, data.edge_index, data.batch)\n",
        "        loss = criterion(out.squeeze(), data.y)\n",
        "        loss.backward()\n",
        "        optimizer.step()\n",
        "        total_loss += loss.item()\n",
        "    return total_loss / len(data_loader)\n",
        "\n",
        "def evaluate_model(model, data_loader):\n",
        "    model.eval()\n",
        "    total_mae = 0\n",
        "    with torch.no_grad():\n",
        "        for data in data_loader:\n",
        "            out = model(data.x, data.edge_index, data.batch)\n",
        "            mae = torch.abs(out.squeeze() - data.y).mean()\n",
        "            total_mae += mae.item()\n",
        "    return total_mae / len(data_loader)"
      ],
      "metadata": {
        "id": "-hFpy2yO35nL"
      },
      "execution_count": null,
      "outputs": []
    },
    {
      "cell_type": "markdown",
      "source": [
        "### 5. MAIN EXECUTION\n",
        "\n"
      ],
      "metadata": {
        "id": "GxmKOpOJ4A1Y"
      }
    },
    {
      "cell_type": "code",
      "execution_count": null,
      "metadata": {
        "colab": {
          "base_uri": "https://localhost:8080/"
        },
        "id": "oFuNjx1WqZvN",
        "outputId": "2b73daad-39df-4bd4-bea4-c6ba6128d330"
      },
      "outputs": [
        {
          "output_type": "stream",
          "name": "stderr",
          "text": [
            "/usr/local/lib/python3.10/dist-packages/torch_geometric/deprecation.py:26: UserWarning: 'data.DataLoader' is deprecated, use 'loader.DataLoader' instead\n",
            "  warnings.warn(out)\n"
          ]
        },
        {
          "output_type": "stream",
          "name": "stdout",
          "text": [
            "Epoch 1, Loss: 10.785987437525883\n",
            "Epoch 2, Loss: 7.95008926150165\n",
            "Epoch 3, Loss: 7.8197392149816585\n",
            "Epoch 4, Loss: 7.937989210780663\n",
            "Epoch 5, Loss: 7.776319769364369\n",
            "Epoch 6, Loss: 7.847091578230073\n",
            "Epoch 7, Loss: 7.5997750185712984\n",
            "Epoch 8, Loss: 7.541442237322843\n",
            "Epoch 9, Loss: 7.558936710599102\n",
            "Epoch 10, Loss: 7.3195333842989765\n",
            "Epoch 11, Loss: 7.072226880471917\n",
            "Epoch 12, Loss: 6.967530829997003\n",
            "Epoch 13, Loss: 6.911710684812522\n",
            "Epoch 14, Loss: 6.811581327945372\n",
            "Epoch 15, Loss: 6.688727855682373\n",
            "Epoch 16, Loss: 6.529605156258691\n",
            "Epoch 17, Loss: 6.466413494906848\n",
            "Epoch 18, Loss: 6.483349517176423\n",
            "Epoch 19, Loss: 6.393912303296825\n",
            "Epoch 20, Loss: 6.429590158824679\n",
            "Epoch 21, Loss: 6.281494243235528\n",
            "Epoch 22, Loss: 6.2823139504541325\n",
            "Epoch 23, Loss: 6.391000765788404\n",
            "Epoch 24, Loss: 6.238706727571126\n",
            "Epoch 25, Loss: 6.2879912279829195\n",
            "Epoch 26, Loss: 6.118708350990392\n",
            "Epoch 27, Loss: 6.233451776866671\n",
            "Epoch 28, Loss: 6.18025084386898\n",
            "Epoch 29, Loss: 6.1374319716344905\n",
            "Epoch 30, Loss: 6.090064555783815\n",
            "Epoch 31, Loss: 6.032999431030659\n",
            "Epoch 32, Loss: 6.054219535634488\n",
            "Epoch 33, Loss: 6.074514310571212\n",
            "Epoch 34, Loss: 6.036551922182493\n",
            "Epoch 35, Loss: 5.9327970396114305\n",
            "Epoch 36, Loss: 6.004947227767751\n",
            "Epoch 37, Loss: 5.991629956643792\n",
            "Epoch 38, Loss: 5.956428129461747\n",
            "Epoch 39, Loss: 5.90283334707912\n",
            "Epoch 40, Loss: 5.973161383520199\n",
            "Epoch 41, Loss: 5.940092258815524\n",
            "Epoch 42, Loss: 5.9225377191471145\n",
            "Epoch 43, Loss: 5.882257950456837\n",
            "Epoch 44, Loss: 5.875237718413148\n",
            "Epoch 45, Loss: 5.751487861705732\n",
            "Epoch 46, Loss: 5.82402259488649\n",
            "Epoch 47, Loss: 5.778286396702634\n",
            "Epoch 48, Loss: 5.828471129453635\n",
            "Epoch 49, Loss: 5.8111241014697885\n",
            "Epoch 50, Loss: 5.7677336885959285\n",
            "Mean Absolute Error: 1.8940709150290187\n",
            "Accuracy: 81.05929084970981\n"
          ]
        }
      ],
      "source": [
        "# Initialize model and hyperparameters\n",
        "input_dim = 4  # Coefficients, constants, powers, and operators\n",
        "hidden_dim = 256\n",
        "output_dim = 128\n",
        "model = GNNModel(input_dim=input_dim, hidden_dim=hidden_dim, output_dim=output_dim)\n",
        "\n",
        "optimizer = torch.optim.Adam(model.parameters(), lr=0.001, weight_decay=1e-4)\n",
        "criterion = nn.MSELoss()\n",
        "scheduler = StepLR(optimizer, step_size=10, gamma=0.5)\n",
        "\n",
        "# Training loop\n",
        "for epoch in range(50):\n",
        "    loss = train_model(model, data_loader, optimizer, criterion)\n",
        "    scheduler.step()\n",
        "    print(f\"Epoch {epoch + 1}, Loss: {loss}\")\n",
        "\n",
        "# Evaluation\n",
        "mae = evaluate_model(model, data_loader)\n",
        "accuracy = max(0, 100 - mae * 10)  # Accuracy out of 100\n",
        "print(\"Mean Absolute Error:\", mae)\n",
        "print(\"Accuracy:\", accuracy)\n"
      ]
    },
    {
      "cell_type": "code",
      "execution_count": null,
      "metadata": {
        "colab": {
          "base_uri": "https://localhost:8080/"
        },
        "id": "6-bBEplXti7G",
        "outputId": "4f29a09a-1995-40d2-a40f-aa3ec798adc6"
      },
      "outputs": [
        {
          "data": {
            "text/plain": [
              "(Eq(3*x**2 + 12*x + 12, 5), [-3.290994448735806, -0.7090055512641944])"
            ]
          },
          "execution_count": 31,
          "metadata": {},
          "output_type": "execute_result"
        }
      ],
      "source": [
        "x = sp.symbols('x')\n",
        "coeff = random.randint(1, 3)  # Reduced range for coefficients\n",
        "constant = random.randint(1, 5)  # Reduced range for constants\n",
        "rhs = random.randint(1, 20)  # Reduced range for right-hand side\n",
        "eq = sp.Eq(sp.expand(coeff * (x + constant)**2), rhs)\n",
        "solutions = sp.solve(eq, x)\n",
        "eq, [float(s) for s in solutions if sp.im(s) == 0]"
      ]
    },
    {
      "cell_type": "code",
      "execution_count": null,
      "metadata": {
        "id": "WqELB0plzpu6"
      },
      "outputs": [],
      "source": [
        "def generate_equation_problem():\n",
        "    x = sp.symbols('x')\n",
        "    coeff = random.randint(1, 3)  # Reduced range for coefficients\n",
        "    constant = random.randint(1, 5)  # Reduced range for constants\n",
        "    rhs = random.randint(1, 20)  # Reduced range for right-hand side\n",
        "    eq = sp.Eq(sp.expand(coeff * (x + constant)**2), rhs)\n",
        "    solutions = sp.solve(eq, x)\n",
        "    return eq, [float(s) for s in solutions if sp.im(s) == 0]\n",
        "\n",
        "def visualize_graph(graph):\n",
        "    # Set layout and node labels\n",
        "    pos = nx.spring_layout(graph, seed=42)  # You can adjust the layout\n",
        "    labels = nx.get_node_attributes(graph, 'label')\n",
        "\n",
        "    # Draw the graph\n",
        "    plt.figure(figsize=(10, 8))\n",
        "    nx.draw(graph, pos, with_labels=True, labels=labels, node_size=3000, node_color='skyblue', font_size=10, font_weight='bold', edge_color='gray')\n",
        "    plt.title(\"Graph Representation of the Equation\")\n",
        "    plt.show()\n",
        "\n",
        "example_equation, _ = generate_equation_problem()\n",
        "graph = problem_to_graph(example_equation)\n",
        "visualize_graph(graph)"
      ]
    }
  ],
  "metadata": {
    "colab": {
      "provenance": [],
      "collapsed_sections": [
        "N8nF2_I13dd6"
      ]
    },
    "kernelspec": {
      "display_name": "Python 3",
      "name": "python3"
    },
    "language_info": {
      "name": "python"
    }
  },
  "nbformat": 4,
  "nbformat_minor": 0
}